{
  "nbformat": 4,
  "nbformat_minor": 0,
  "metadata": {
    "colab": {
      "name": "Assignment1C.ipynb",
      "version": "0.3.2",
      "provenance": [],
      "collapsed_sections": []
    },
    "kernelspec": {
      "name": "python3",
      "display_name": "Python 3"
    }
  },
  "cells": [
    {
      "cell_type": "markdown",
      "metadata": {
        "id": "ahgcvywJnEGS",
        "colab_type": "text"
      },
      "source": [
        "# Encode Text"
      ]
    },
    {
      "cell_type": "markdown",
      "metadata": {
        "id": "gHptVCRfnVl1",
        "colab_type": "text"
      },
      "source": [
        "Split the words, remove punctuation, and remove stop words"
      ]
    },
    {
      "cell_type": "code",
      "metadata": {
        "id": "6DqhxnjJbd7u",
        "colab_type": "code",
        "outputId": "733f2ac4-4266-4fd5-86ae-61c58d1e2d08",
        "colab": {
          "base_uri": "https://localhost:8080/",
          "height": 71
        }
      },
      "source": [
        "import string\n",
        "\n",
        "exclude = set(string.punctuation)\n",
        "stop_words = ['a','an','the','of','with','for','to','in','on']\n",
        "\n",
        "speech = [\"\"\"\n",
        "And no matter what grade you're in, some of you are probably wishing it were still summer, and you could've stayed in bed just a little longer this morning.\n",
        "I know that feeling. When I was young, my family lived overseas. I live in Indonesia for a few years. \n",
        "And my mother, she didn't have the money to send me where all the American kids went to school. But she thought it was important for me to keep up with American education. \n",
        "So she decided to teach me extra lessons herself, Monday through Friday. But because she had to go to work, the only time she could do it was at 4:30 in the morning.\n",
        "Now, as you might imagine, I wasn't too happy about getting up that early. A lot of times, I'd fall asleep right there at the kitchen table. \n",
        "But whenever I'd complain, my mother would just give me one of those looks and she'd say, This is no picnic for me either, buster.\n",
        "So I know that some of you are still adjusting to being back at school. But I'm here today because I have something important to discuss with you. \n",
        "I'm here because I want to talk with you about your education and what's expected of all of you in this new school year.\n",
        "Now, I've given a lot of speeches about education, and I've talked about responsibility a lot. I've talked about teachers' responsibility for inspiring students and pushing you to learn.\n",
        "I've talked about your parents' responsibility for making sure you stay on track, and you get your homework done, and don't spend every waking hour in front of the TV or with the Xbox.\n",
        "I've talked a lot about your government's responsibility for setting high standards, and supporting teachers and principals, and turning around schools that aren't working where students aren't getting the opportunities that they deserve.\n",
        "But at the end of the day, we can have the most dedicated teachers, the most supportive parents, the best schools in the world, and none of it will make a difference -- none of it will matter -- unless all of you fulfill your responsibilities: \n",
        "unless you show up to those schools, unless you pay attention to those teachers, unless you listen to your parents and grandparents and other adults and put in the hard work it takes to succeed.\n",
        "Don't be afraid to ask questions. Don't be afraid to ask for help when you need it. I do that every day. Asking for help isn't a sign of weakness, it's a sign of strength, \n",
        "because it shows you have the courage to admit when you don't know something and that, then, allows you to learn something new.\n",
        "And no matter what you want to do with your life, I guarantee that you'll need an education to do it.\n",
        "\"\"\"]\n",
        "\n",
        "words1 = ''.join(ch for ch in speech[0] if ch not in exclude).lower().split()\n",
        "words = [word for word in words1 if word not in stop_words]\n",
        "\n",
        "# print out the total number of words\n",
        "print(f'The total number of words = {len(words)}')\n",
        "\n",
        "# print out the list of words\n",
        "print(words)\n"
      ],
      "execution_count": 20,
      "outputs": [
        {
          "output_type": "stream",
          "text": [
            "The total number of words = 393\n",
            "['and', 'no', 'matter', 'what', 'grade', 'youre', 'some', 'you', 'are', 'probably', 'wishing', 'it', 'were', 'still', 'summer', 'and', 'you', 'couldve', 'stayed', 'bed', 'just', 'little', 'longer', 'this', 'morning', 'i', 'know', 'that', 'feeling', 'when', 'i', 'was', 'young', 'my', 'family', 'lived', 'overseas', 'i', 'live', 'indonesia', 'few', 'years', 'and', 'my', 'mother', 'she', 'didnt', 'have', 'money', 'send', 'me', 'where', 'all', 'american', 'kids', 'went', 'school', 'but', 'she', 'thought', 'it', 'was', 'important', 'me', 'keep', 'up', 'american', 'education', 'so', 'she', 'decided', 'teach', 'me', 'extra', 'lessons', 'herself', 'monday', 'through', 'friday', 'but', 'because', 'she', 'had', 'go', 'work', 'only', 'time', 'she', 'could', 'do', 'it', 'was', 'at', '430', 'morning', 'now', 'as', 'you', 'might', 'imagine', 'i', 'wasnt', 'too', 'happy', 'about', 'getting', 'up', 'that', 'early', 'lot', 'times', 'id', 'fall', 'asleep', 'right', 'there', 'at', 'kitchen', 'table', 'but', 'whenever', 'id', 'complain', 'my', 'mother', 'would', 'just', 'give', 'me', 'one', 'those', 'looks', 'and', 'shed', 'say', 'this', 'is', 'no', 'picnic', 'me', 'either', 'buster', 'so', 'i', 'know', 'that', 'some', 'you', 'are', 'still', 'adjusting', 'being', 'back', 'at', 'school', 'but', 'im', 'here', 'today', 'because', 'i', 'have', 'something', 'important', 'discuss', 'you', 'im', 'here', 'because', 'i', 'want', 'talk', 'you', 'about', 'your', 'education', 'and', 'whats', 'expected', 'all', 'you', 'this', 'new', 'school', 'year', 'now', 'ive', 'given', 'lot', 'speeches', 'about', 'education', 'and', 'ive', 'talked', 'about', 'responsibility', 'lot', 'ive', 'talked', 'about', 'teachers', 'responsibility', 'inspiring', 'students', 'and', 'pushing', 'you', 'learn', 'ive', 'talked', 'about', 'your', 'parents', 'responsibility', 'making', 'sure', 'you', 'stay', 'track', 'and', 'you', 'get', 'your', 'homework', 'done', 'and', 'dont', 'spend', 'every', 'waking', 'hour', 'front', 'tv', 'or', 'xbox', 'ive', 'talked', 'lot', 'about', 'your', 'governments', 'responsibility', 'setting', 'high', 'standards', 'and', 'supporting', 'teachers', 'and', 'principals', 'and', 'turning', 'around', 'schools', 'that', 'arent', 'working', 'where', 'students', 'arent', 'getting', 'opportunities', 'that', 'they', 'deserve', 'but', 'at', 'end', 'day', 'we', 'can', 'have', 'most', 'dedicated', 'teachers', 'most', 'supportive', 'parents', 'best', 'schools', 'world', 'and', 'none', 'it', 'will', 'make', 'difference', 'none', 'it', 'will', 'matter', 'unless', 'all', 'you', 'fulfill', 'your', 'responsibilities', 'unless', 'you', 'show', 'up', 'those', 'schools', 'unless', 'you', 'pay', 'attention', 'those', 'teachers', 'unless', 'you', 'listen', 'your', 'parents', 'and', 'grandparents', 'and', 'other', 'adults', 'and', 'put', 'hard', 'work', 'it', 'takes', 'succeed', 'dont', 'be', 'afraid', 'ask', 'questions', 'dont', 'be', 'afraid', 'ask', 'help', 'when', 'you', 'need', 'it', 'i', 'do', 'that', 'every', 'day', 'every', 'day', 'asking', 'help', 'isnt', 'sign', 'weakness', 'its', 'sign', 'strength', 'because', 'it', 'shows', 'you', 'have', 'courage', 'admit', 'when', 'you', 'dont', 'know', 'something', 'and', 'that', 'then', 'allows', 'you', 'learn', 'something', 'new', 'and', 'no', 'matter', 'what', 'you', 'want', 'do', 'your', 'life', 'i', 'guarantee', 'that', 'youll', 'need', 'education', 'do', 'it']\n"
          ],
          "name": "stdout"
        }
      ]
    },
    {
      "cell_type": "markdown",
      "metadata": {
        "id": "iqWXJbKanzOZ",
        "colab_type": "text"
      },
      "source": [
        "Build a dictionary where the word is the key and index the word as value"
      ]
    },
    {
      "cell_type": "code",
      "metadata": {
        "id": "-LqnclkBnrGj",
        "colab_type": "code",
        "colab": {
          "base_uri": "https://localhost:8080/",
          "height": 54
        },
        "outputId": "7d679c17-7bb7-4f84-db0a-d493169612be"
      },
      "source": [
        "dict = {}\n",
        "new_words = list()\n",
        "for w in words:\n",
        "  if w not in new_words:\n",
        "    new_words.append(w)\n",
        "        \n",
        "for i in range(len(new_words)):\n",
        "  dict[new_words[i]] = i\n",
        "print(dict)     "
      ],
      "execution_count": 21,
      "outputs": [
        {
          "output_type": "stream",
          "text": [
            "{'and': 0, 'no': 1, 'matter': 2, 'what': 3, 'grade': 4, 'youre': 5, 'some': 6, 'you': 7, 'are': 8, 'probably': 9, 'wishing': 10, 'it': 11, 'were': 12, 'still': 13, 'summer': 14, 'couldve': 15, 'stayed': 16, 'bed': 17, 'just': 18, 'little': 19, 'longer': 20, 'this': 21, 'morning': 22, 'i': 23, 'know': 24, 'that': 25, 'feeling': 26, 'when': 27, 'was': 28, 'young': 29, 'my': 30, 'family': 31, 'lived': 32, 'overseas': 33, 'live': 34, 'indonesia': 35, 'few': 36, 'years': 37, 'mother': 38, 'she': 39, 'didnt': 40, 'have': 41, 'money': 42, 'send': 43, 'me': 44, 'where': 45, 'all': 46, 'american': 47, 'kids': 48, 'went': 49, 'school': 50, 'but': 51, 'thought': 52, 'important': 53, 'keep': 54, 'up': 55, 'education': 56, 'so': 57, 'decided': 58, 'teach': 59, 'extra': 60, 'lessons': 61, 'herself': 62, 'monday': 63, 'through': 64, 'friday': 65, 'because': 66, 'had': 67, 'go': 68, 'work': 69, 'only': 70, 'time': 71, 'could': 72, 'do': 73, 'at': 74, '430': 75, 'now': 76, 'as': 77, 'might': 78, 'imagine': 79, 'wasnt': 80, 'too': 81, 'happy': 82, 'about': 83, 'getting': 84, 'early': 85, 'lot': 86, 'times': 87, 'id': 88, 'fall': 89, 'asleep': 90, 'right': 91, 'there': 92, 'kitchen': 93, 'table': 94, 'whenever': 95, 'complain': 96, 'would': 97, 'give': 98, 'one': 99, 'those': 100, 'looks': 101, 'shed': 102, 'say': 103, 'is': 104, 'picnic': 105, 'either': 106, 'buster': 107, 'adjusting': 108, 'being': 109, 'back': 110, 'im': 111, 'here': 112, 'today': 113, 'something': 114, 'discuss': 115, 'want': 116, 'talk': 117, 'your': 118, 'whats': 119, 'expected': 120, 'new': 121, 'year': 122, 'ive': 123, 'given': 124, 'speeches': 125, 'talked': 126, 'responsibility': 127, 'teachers': 128, 'inspiring': 129, 'students': 130, 'pushing': 131, 'learn': 132, 'parents': 133, 'making': 134, 'sure': 135, 'stay': 136, 'track': 137, 'get': 138, 'homework': 139, 'done': 140, 'dont': 141, 'spend': 142, 'every': 143, 'waking': 144, 'hour': 145, 'front': 146, 'tv': 147, 'or': 148, 'xbox': 149, 'governments': 150, 'setting': 151, 'high': 152, 'standards': 153, 'supporting': 154, 'principals': 155, 'turning': 156, 'around': 157, 'schools': 158, 'arent': 159, 'working': 160, 'opportunities': 161, 'they': 162, 'deserve': 163, 'end': 164, 'day': 165, 'we': 166, 'can': 167, 'most': 168, 'dedicated': 169, 'supportive': 170, 'best': 171, 'world': 172, 'none': 173, 'will': 174, 'make': 175, 'difference': 176, 'unless': 177, 'fulfill': 178, 'responsibilities': 179, 'show': 180, 'pay': 181, 'attention': 182, 'listen': 183, 'grandparents': 184, 'other': 185, 'adults': 186, 'put': 187, 'hard': 188, 'takes': 189, 'succeed': 190, 'be': 191, 'afraid': 192, 'ask': 193, 'questions': 194, 'help': 195, 'need': 196, 'asking': 197, 'isnt': 198, 'sign': 199, 'weakness': 200, 'its': 201, 'strength': 202, 'shows': 203, 'courage': 204, 'admit': 205, 'then': 206, 'allows': 207, 'life': 208, 'guarantee': 209, 'youll': 210}\n"
          ],
          "name": "stdout"
        }
      ]
    },
    {
      "cell_type": "markdown",
      "metadata": {
        "id": "mUVZYjktwCCL",
        "colab_type": "text"
      },
      "source": [
        "Encode the sentence using the dictionary"
      ]
    },
    {
      "cell_type": "code",
      "metadata": {
        "id": "cuNkEFmYlypj",
        "colab_type": "code",
        "colab": {
          "base_uri": "https://localhost:8080/",
          "height": 34
        },
        "outputId": "060bfe2d-f64b-403e-e636-5f56017b140e"
      },
      "source": [
        "sentence = [\"Education is important. There is no excuse for not trying.\"]\n",
        "\n",
        "s = ''.join(ch for ch in sentence[0] if ch not in exclude).lower().split()\n",
        "encoded = list()\n",
        "\n",
        "for w in s:\n",
        "  if w in dict:\n",
        "    encoded.append(dict[w])\n",
        "\n",
        "print(encoded)"
      ],
      "execution_count": 22,
      "outputs": [
        {
          "output_type": "stream",
          "text": [
            "[56, 104, 53, 92, 104, 1]\n"
          ],
          "name": "stdout"
        }
      ]
    }
  ]
}