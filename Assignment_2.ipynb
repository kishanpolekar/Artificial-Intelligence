{
  "nbformat": 4,
  "nbformat_minor": 0,
  "metadata": {
    "colab": {
      "name": "Example2.ipynb",
      "provenance": [],
      "collapsed_sections": []
    },
    "kernelspec": {
      "name": "python3",
      "display_name": "Python 3"
    }
  },
  "cells": [
    {
      "cell_type": "markdown",
      "metadata": {
        "id": "uPfmpddsonXD",
        "colab_type": "text"
      },
      "source": [
        "# Functions"
      ]
    },
    {
      "cell_type": "code",
      "metadata": {
        "id": "V0bvIMliomX_",
        "colab_type": "code",
        "colab": {}
      },
      "source": [
        "def foo1():\n",
        "    print('This is a function!')\n",
        "\n",
        "def foo2(name, age=25):\n",
        "    print('%s is %d years of age'%(name,age))\n",
        "    \n",
        "    \n",
        "foo1()\n",
        "foo2('John')\n",
        "foo2('Dr. Lui',20)    "
      ],
      "execution_count": 0,
      "outputs": []
    },
    {
      "cell_type": "code",
      "metadata": {
        "id": "1jcgsDmGo6tH",
        "colab_type": "code",
        "colab": {}
      },
      "source": [
        "def foo3(firstarg, *restarg):    \n",
        "    print(firstarg)\n",
        "    for i in restarg:\n",
        "        print(i)\n",
        "        \n",
        "        \n",
        "def foo4(num):\n",
        "    a = num\n",
        "    b = num**3\n",
        "    c = pow(num, 3)\n",
        "    \n",
        "    return a,b,c\n",
        "  \n",
        "foo3(10, 20, 30)\n",
        "    \n",
        "[a,b,c] = foo4(2)\n",
        "print('\\n%d %d %d'%(a,b,int(c)))  "
      ],
      "execution_count": 0,
      "outputs": []
    },
    {
      "cell_type": "markdown",
      "metadata": {
        "id": "bexgi84OpLSa",
        "colab_type": "text"
      },
      "source": [
        "# Classes"
      ]
    },
    {
      "cell_type": "code",
      "metadata": {
        "id": "-S7manpF4IlS",
        "colab_type": "code",
        "colab": {}
      },
      "source": [
        "class Dataset:\n",
        "  def __init__(self, data):\n",
        "      self.data = data\n",
        "      \n",
        "  def __computeSum(self):\n",
        "      return sum(self.data)\n",
        "    \n",
        "  def print(self):\n",
        "      for item in self.data:\n",
        "          print(item ,' ', end='') \n",
        "      print('\\n')\n",
        "      \n",
        "mydata = Dataset([1,2,3,4,5])\n",
        "mydata.print()\n",
        "\n",
        "# print('\\n')\n",
        "# print(mydata.__computeSum())"
      ],
      "execution_count": 0,
      "outputs": []
    },
    {
      "cell_type": "markdown",
      "metadata": {
        "id": "U-UaK1a851FP",
        "colab_type": "text"
      },
      "source": [
        "# Inheritance \n",
        "# Override the default getter and setter  "
      ]
    },
    {
      "cell_type": "code",
      "metadata": {
        "id": "5Ksgm0nypOXQ",
        "colab_type": "code",
        "colab": {}
      },
      "source": [
        "class Data:\n",
        "  def __init__(self):\n",
        "      self.size = 0\n",
        "      \n",
        "  def getSize(self):\n",
        "      return len(self.data)\n",
        "    \n",
        "       \n",
        "  def getItem(self, k):\n",
        "      self.print()\n",
        "      print('############')\n",
        "      return self.data[k]\n",
        "    \n",
        "  ## getter and setter for data encapsulation     \n",
        "  ## allow to access a method like an attribute\n",
        "  def __getitem__(self, k):\n",
        "      print('Getting the value') \n",
        "      return self.data[k]\n",
        "    \n",
        "  ## setter  \n",
        "  def __setitem__(self, k, val):\n",
        "      print('Setting the value')\n",
        "      self.data[k] = val         \n",
        "      \n",
        "  def print(self):\n",
        "      print('I am a super class')\n",
        "      \n",
        "    \n",
        "class Dataset(Data):\n",
        "  def __init__(self, data):\n",
        "      super(Data, self).__init__()\n",
        "      self.data = data\n",
        "      \n",
        "    \n",
        "  def print(self):\n",
        "      print('Derived class')\n",
        "      for item in self.data:\n",
        "          print(item ,' ', end='') \n",
        "      print('\\n')\n",
        "      \n",
        "      \n",
        "data = [1, 2, 3, 4, 5]\n",
        "\n",
        "mydata = Dataset(data)\n",
        "print(mydata.getItem(3))\n",
        "print('\\n')\n",
        "print(mydata.getSize())\n",
        "\n",
        "# print('----------')\n",
        "# ## getter and setter\n",
        "print(mydata[3])\n",
        "mydata[3] = -1\n",
        "mydata.print()\n",
        "\n"
      ],
      "execution_count": 0,
      "outputs": []
    },
    {
      "cell_type": "markdown",
      "metadata": {
        "id": "aZQsDFLv496V",
        "colab_type": "text"
      },
      "source": [
        "# Getter and Setter, Static Method, Class Method"
      ]
    },
    {
      "cell_type": "code",
      "metadata": {
        "id": "rQxNfqhorIyF",
        "colab_type": "code",
        "colab": {}
      },
      "source": [
        "class Test:\n",
        "    data = [1,2,3,4,5]\n",
        "    \n",
        "    def __init__(self, name):\n",
        "        self.__name = name\n",
        "        self.counter = 0\n",
        "        \n",
        "    ## getter    \n",
        "    ## allow to access a method like an attribute\n",
        "    @property\n",
        "    def name(self):\n",
        "        return self.__name\n",
        "      \n",
        "    ## @attribute.setter  \n",
        "    @name.setter\n",
        "    def name(self, name):\n",
        "        self.__name = name\n",
        "        \n",
        "    ## no self - not a class method    \n",
        "    @staticmethod\n",
        "    def printing():\n",
        "        print('This is a print statement')\n",
        "      \n",
        "    # allow to access the class data outside the def definition  \n",
        "    @classmethod  \n",
        "    def getData(cls):\n",
        "        return cls.data\n",
        "      \n",
        "      \n",
        "x = Test('AI')\n",
        "## setter\n",
        "x.name = 'John' \n",
        "## getter\n",
        "print(x.name)\n",
        "\n",
        "## no instance is needed\n",
        "Test.printing()\n",
        "\n",
        "## no instance is needed\n",
        "Test.getData()"
      ],
      "execution_count": 0,
      "outputs": []
    },
    {
      "cell_type": "markdown",
      "metadata": {
        "id": "Muc6A3sj5IM5",
        "colab_type": "text"
      },
      "source": [
        "# Decorators"
      ]
    },
    {
      "cell_type": "code",
      "metadata": {
        "id": "3u9yxWFZzZaR",
        "colab_type": "code",
        "colab": {}
      },
      "source": [
        "def anotherfunc(func):\n",
        "    def wrapper():\n",
        "        print('Here is my wrapper')\n",
        "        func()\n",
        "        print('end of my wrapper')\n",
        "    return wrapper\n",
        "  \n",
        "## decorators\n",
        "## passing a function to another function  \n",
        "@anotherfunc  \n",
        "def myprint():\n",
        "    print('print something')\n",
        "\n",
        "\n",
        "#myprint()\n",
        "\n",
        "## remove @anotherfunc\n",
        "# myprint = anotherfunc(myprint)\n",
        "# myprint()\n"
      ],
      "execution_count": 0,
      "outputs": []
    }
  ]
}