{
  "nbformat": 4,
  "nbformat_minor": 0,
  "metadata": {
    "colab": {
      "name": "Assignment3_Problem(1).ipynb",
      "provenance": [],
      "collapsed_sections": []
    },
    "kernelspec": {
      "name": "python3",
      "display_name": "Python 3"
    },
    "accelerator": "GPU"
  },
  "cells": [
    {
      "cell_type": "code",
      "metadata": {
        "id": "1uT4y16JXQui",
        "colab_type": "code",
        "outputId": "9dea0f57-ccbf-42b5-8f19-67c6b82c3913",
        "colab": {
          "base_uri": "https://localhost:8080/",
          "height": 34
        }
      },
      "source": [
        "import torch\n",
        "import torch.nn as nn\n",
        "import torchvision\n",
        "import torchvision.transforms as transforms\n",
        "import torchvision.datasets as dataset\n",
        "from torchvision.datasets import FashionMNIST\n",
        "import matplotlib.pyplot as plt\n",
        "import numpy as np\n",
        "\n",
        "\n",
        "# Device configuration\n",
        "device = torch.device('cuda' if torch.cuda.is_available() else 'cpu')\n",
        "device"
      ],
      "execution_count": 2,
      "outputs": [
        {
          "output_type": "execute_result",
          "data": {
            "text/plain": [
              "device(type='cuda')"
            ]
          },
          "metadata": {
            "tags": []
          },
          "execution_count": 2
        }
      ]
    },
    {
      "cell_type": "markdown",
      "metadata": {
        "id": "AEiHrX5QK8rv",
        "colab_type": "text"
      },
      "source": [
        "# CRFAR10 Dataset\n",
        "\n",
        "![alt text](https://drive.google.com/uc?id=1WZK7z4pa3qdXmg7fs9AnqlflCTGzblz1)"
      ]
    },
    {
      "cell_type": "code",
      "metadata": {
        "id": "3Ns5eTLdXYhj",
        "colab_type": "code",
        "outputId": "7bc5f3cb-6df9-4a99-df4b-9aa128cf39d2",
        "colab": {
          "base_uri": "https://localhost:8080/",
          "height": 385
        }
      },
      "source": [
        "batch_size = 128\n",
        "\n",
        "transform = transforms.Compose([\n",
        "    transforms.ToTensor()\n",
        "])\n",
        "\n",
        "\n",
        "# CIFAR-10 dataset\n",
        "train_dataset = dataset.CIFAR10(root='../../data/', train=True, transform=transform, download=True)\n",
        "test_dataset = dataset.CIFAR10(root='../../data/', train=False, transform=transform, download=True)\n",
        "\n",
        "\n",
        "print('Train dataset size = ',len(train_dataset))\n",
        "print('Test dataset size = ',len(test_dataset))\n",
        "img, label = train_dataset[1]\n",
        "print('Image size = ',img.shape, '(', label, ')')\n",
        "plt.imshow(img[0,:,:], cmap='gray') \n",
        "\n",
        "\n",
        "\n",
        "# Data loader\n",
        "train_loader = torch.utils.data.DataLoader(dataset=train_dataset,\n",
        "                                           batch_size=batch_size, \n",
        "                                           shuffle=True)\n",
        "\n",
        "test_loader = torch.utils.data.DataLoader(dataset=test_dataset,\n",
        "                                          batch_size=batch_size, \n",
        "                                          shuffle=False)\n",
        "\n",
        "\n",
        "del train_dataset\n",
        "del test_dataset"
      ],
      "execution_count": 3,
      "outputs": [
        {
          "output_type": "stream",
          "text": [
            "\r0it [00:00, ?it/s]"
          ],
          "name": "stderr"
        },
        {
          "output_type": "stream",
          "text": [
            "Downloading https://www.cs.toronto.edu/~kriz/cifar-10-python.tar.gz to ../../data/cifar-10-python.tar.gz\n"
          ],
          "name": "stdout"
        },
        {
          "output_type": "stream",
          "text": [
            "170500096it [00:06, 27770209.17it/s]                               \n"
          ],
          "name": "stderr"
        },
        {
          "output_type": "stream",
          "text": [
            "Extracting ../../data/cifar-10-python.tar.gz to ../../data/\n",
            "Files already downloaded and verified\n",
            "Train dataset size =  50000\n",
            "Test dataset size =  10000\n",
            "Image size =  torch.Size([3, 32, 32]) ( 9 )\n"
          ],
          "name": "stdout"
        },
        {
          "output_type": "display_data",
          "data": {
            "image/png": "[encoded data removed]",
            "text/plain": [
              "<Figure size 432x288 with 1 Axes>"
            ]
          },
          "metadata": {
            "tags": []
          }
        }
      ]
    },
    {
      "cell_type": "markdown",
      "metadata": {
        "id": "055Vbt1VyfEC",
        "colab_type": "text"
      },
      "source": [
        "# Neural Network Model\n",
        "\n",
        "Layer       | Operations                            | Input Size    | Output Size\n",
        "------------| --------------------------------------|---------------|---------------\n",
        "Layer 1     | conv3x3 + BatchNorm + Relu            | 3 x 32 x 32   | 128 x 32 x 32\n",
        "Layer 2     | conv3x3 + BatchNorm + Relu + maxpool  | 128 x 32 x 32 | 256 x 16 x 16\n",
        "Layer 3     | conv3x3 + BatchNorm + Relu            | 256 x 16 x 16 | 128 x 16 x 16\n",
        "Layer 4     | conv3x3 + BatchNorm + Relu + maxpool  | 128 x 16 x 16 |  64 x  8 x 8\n",
        "Layer 5     | Fully connected                       |  1 x  4096    |  1 x  512\n",
        "Layer 6     | Fully connected                       |  1 x  512     |  1 x  10\n"
      ]
    },
    {
      "cell_type": "code",
      "metadata": {
        "id": "CF0OBOYdXdWi",
        "colab_type": "code",
        "colab": {}
      },
      "source": [
        "class Model(nn.Module):\n",
        "    def __init__(self, num_classes):\n",
        "        super(Model, self).__init__()\n",
        "        \n",
        "        self.conv1 = nn.Conv2d(3, 128, kernel_size=3, padding=1, stride=1)       \n",
        "        self.conv2 = nn.Conv2d(128, 256, kernel_size=3, padding=1, stride=1)\n",
        "        self.conv3 = nn.Conv2d(256, 128, kernel_size=3, padding=1, stride=1)\n",
        "        self.conv4 = nn.Conv2d(128, 64, kernel_size=3, padding=1, stride=1)\n",
        "        self.bn1 = nn.BatchNorm2d(128)\n",
        "        self.bn2 = nn.BatchNorm2d(256)\n",
        "        self.bn3 = nn.BatchNorm2d(128)\n",
        "        self.bn4 = nn.BatchNorm2d(64)\n",
        "        self.n = np.int(4096)\n",
        "        \n",
        "        self.linear1 = nn.Linear(self.n, 128)                              \n",
        "        self.linear2 = nn.Linear(128, num_classes)                        \n",
        "        self.relu = nn.ReLU()                                                  \n",
        "        self.max_pool = nn.MaxPool2d(2, stride=2)\n",
        "        \n",
        "        self.init()\n",
        "    \n",
        "    def init(self):\n",
        "        nn.init.xavier_uniform_(self.conv1.weight)\n",
        "        nn.init.xavier_uniform_(self.conv2.weight)\n",
        "        nn.init.xavier_uniform_(self.conv3.weight)\n",
        "        nn.init.xavier_uniform_(self.conv4.weight)\n",
        "        nn.init.xavier_uniform_(self.linear1.weight)\n",
        "        nn.init.xavier_uniform_(self.linear2.weight)\n",
        "        \n",
        "        \n",
        "    def forward(self, x):\n",
        "        \n",
        "        out = self.relu(self.bn1(self.conv1(x)))\n",
        "        out = self.relu(self.bn2(self.conv2(out)))\n",
        "        out = self.max_pool(out)\n",
        "        out = self.relu(self.bn3(self.conv3(out)))\n",
        "        out = self.relu(self.bn4(self.conv4(out))) \n",
        "        out = self.max_pool(out)\n",
        "        \n",
        "        out = out.view(out.size(0), -1)\n",
        "        out = nn.functional.dropout(out, 0.5)\n",
        "        out = self.relu(self.linear1(out))\n",
        "        out = self.linear2(out)\n",
        "        return out\n",
        "      "
      ],
      "execution_count": 0,
      "outputs": []
    },
    {
      "cell_type": "code",
      "metadata": {
        "id": "GOHOL6mCXqH6",
        "colab_type": "code",
        "colab": {}
      },
      "source": [
        "num_classes = 10\n",
        "learning_rate = 0.001\n",
        "\n",
        "model1 = Model(num_classes).to(device)\n",
        "model2 = Model(num_classes).to(device)\n",
        "\n",
        "# Loss and optimizer\n",
        "criterion = nn.CrossEntropyLoss()\n",
        "optimizer1 = torch.optim.Adam(model1.parameters(), lr=learning_rate)\n",
        "optimizer2 = torch.optim.SGD(model2.parameters(), lr=learning_rate, momentum=0.8, weight_decay=5e-4)\n"
      ],
      "execution_count": 0,
      "outputs": []
    },
    {
      "cell_type": "code",
      "metadata": {
        "id": "Zd3rXbrxXvGz",
        "colab_type": "code",
        "colab": {}
      },
      "source": [
        "# Train the model\n",
        "def Train(model, optimizer, num_epochs):\n",
        "    total_step = len(train_loader)\n",
        "    loss_val = []\n",
        "    count = []\n",
        "    \n",
        "    model.train()\n",
        "    for epoch in range(num_epochs):\n",
        "        for i, (images, labels) in enumerate(train_loader):\n",
        "            images = images.to(device)\n",
        "            labels = labels.to(device)\n",
        "\n",
        "            optimizer.zero_grad()\n",
        "            outputs = model(images)\n",
        "            loss = criterion(outputs, labels)\n",
        "            loss.backward()\n",
        "            optimizer.step()\n",
        "        \n",
        "            if (i+1) % 100 == 0:\n",
        "                count.append(i+1 + epoch*total_step)\n",
        "                loss_val.append(loss.item())\n",
        "                print('Epoch [%d/%d], Step [%d/%d], Loss: %.4f'%(epoch+1, num_epochs, i+1, total_step, loss.item()))\n",
        "            \n",
        "    return count, loss_val"
      ],
      "execution_count": 0,
      "outputs": []
    },
    {
      "cell_type": "code",
      "metadata": {
        "id": "AumAW3gDXxov",
        "colab_type": "code",
        "colab": {}
      },
      "source": [
        "# Test the model\n",
        "def Test(model):\n",
        "    correct = 0\n",
        "    total = 0\n",
        "\n",
        "    actual_labels = []\n",
        "    predicted_labels = []\n",
        "    \n",
        "    model.eval()\n",
        "    \n",
        "    for images, labels in test_loader:\n",
        "    \n",
        "        images = images.to(device)\n",
        "        labels = labels.to(device)\n",
        "        \n",
        "        outputs = model(images)\n",
        "        _, predicted = torch.max(outputs.data, 1)\n",
        "        total += labels.size(0)\n",
        "        correct += (predicted == labels).sum()\n",
        "\n",
        "        labelsCPU = labels.data.cpu().numpy()\n",
        "        predictedCPU = predicted.data.cpu().numpy()\n",
        "        predicted_labels.append(predictedCPU)\n",
        "        actual_labels.append(labelsCPU) \n",
        "    \n",
        "    print('Accuracy of the model = %f'%(100 * correct / total))    \n",
        "    "
      ],
      "execution_count": 0,
      "outputs": []
    },
    {
      "cell_type": "code",
      "metadata": {
        "id": "O-bJ6JFcd_SQ",
        "colab_type": "code",
        "outputId": "b15d73c4-38b3-4cf2-da68-475ae9dfa763",
        "colab": {
          "base_uri": "https://localhost:8080/",
          "height": 1000
        }
      },
      "source": [
        "num_epochs = 20\n",
        "count, loss1 = Train(model1, optimizer1, num_epochs)\n",
        "\n",
        "count, loss2 = Train(model2, optimizer2, num_epochs)"
      ],
      "execution_count": 18,
      "outputs": [
        {
          "output_type": "stream",
          "text": [
            "Epoch [1/20], Step [100/391], Loss: 1.6646\n",
            "Epoch [1/20], Step [200/391], Loss: 1.4609\n",
            "Epoch [1/20], Step [300/391], Loss: 1.2099\n",
            "Epoch [2/20], Step [100/391], Loss: 1.0751\n",
            "Epoch [2/20], Step [200/391], Loss: 0.8747\n",
            "Epoch [2/20], Step [300/391], Loss: 0.9839\n",
            "Epoch [3/20], Step [100/391], Loss: 0.9291\n",
            "Epoch [3/20], Step [200/391], Loss: 0.8544\n",
            "Epoch [3/20], Step [300/391], Loss: 0.8462\n",
            "Epoch [4/20], Step [100/391], Loss: 0.7348\n",
            "Epoch [4/20], Step [200/391], Loss: 0.7152\n",
            "Epoch [4/20], Step [300/391], Loss: 0.5871\n",
            "Epoch [5/20], Step [100/391], Loss: 0.6783\n",
            "Epoch [5/20], Step [200/391], Loss: 0.6099\n",
            "Epoch [5/20], Step [300/391], Loss: 0.6630\n",
            "Epoch [6/20], Step [100/391], Loss: 0.6457\n",
            "Epoch [6/20], Step [200/391], Loss: 0.6838\n",
            "Epoch [6/20], Step [300/391], Loss: 0.5626\n",
            "Epoch [7/20], Step [100/391], Loss: 0.5235\n",
            "Epoch [7/20], Step [200/391], Loss: 0.5136\n",
            "Epoch [7/20], Step [300/391], Loss: 0.5471\n",
            "Epoch [8/20], Step [100/391], Loss: 0.4820\n",
            "Epoch [8/20], Step [200/391], Loss: 0.6449\n",
            "Epoch [8/20], Step [300/391], Loss: 0.4063\n",
            "Epoch [9/20], Step [100/391], Loss: 0.6262\n",
            "Epoch [9/20], Step [200/391], Loss: 0.3986\n",
            "Epoch [9/20], Step [300/391], Loss: 0.4416\n",
            "Epoch [10/20], Step [100/391], Loss: 0.3746\n",
            "Epoch [10/20], Step [200/391], Loss: 0.5975\n",
            "Epoch [10/20], Step [300/391], Loss: 0.5470\n",
            "Epoch [11/20], Step [100/391], Loss: 0.4024\n",
            "Epoch [11/20], Step [200/391], Loss: 0.4768\n",
            "Epoch [11/20], Step [300/391], Loss: 0.3314\n",
            "Epoch [12/20], Step [100/391], Loss: 0.3578\n",
            "Epoch [12/20], Step [200/391], Loss: 0.3648\n",
            "Epoch [12/20], Step [300/391], Loss: 0.3522\n",
            "Epoch [13/20], Step [100/391], Loss: 0.4696\n",
            "Epoch [13/20], Step [200/391], Loss: 0.3188\n",
            "Epoch [13/20], Step [300/391], Loss: 0.2725\n",
            "Epoch [14/20], Step [100/391], Loss: 0.4659\n",
            "Epoch [14/20], Step [200/391], Loss: 0.2590\n",
            "Epoch [14/20], Step [300/391], Loss: 0.5016\n",
            "Epoch [15/20], Step [100/391], Loss: 0.3362\n",
            "Epoch [15/20], Step [200/391], Loss: 0.2943\n",
            "Epoch [15/20], Step [300/391], Loss: 0.4174\n",
            "Epoch [16/20], Step [100/391], Loss: 0.3663\n",
            "Epoch [16/20], Step [200/391], Loss: 0.2572\n",
            "Epoch [16/20], Step [300/391], Loss: 0.2769\n",
            "Epoch [17/20], Step [100/391], Loss: 0.3180\n",
            "Epoch [17/20], Step [200/391], Loss: 0.3223\n",
            "Epoch [17/20], Step [300/391], Loss: 0.3503\n",
            "Epoch [18/20], Step [100/391], Loss: 0.3211\n",
            "Epoch [18/20], Step [200/391], Loss: 0.2114\n",
            "Epoch [18/20], Step [300/391], Loss: 0.3006\n",
            "Epoch [19/20], Step [100/391], Loss: 0.1458\n",
            "Epoch [19/20], Step [200/391], Loss: 0.2351\n",
            "Epoch [19/20], Step [300/391], Loss: 0.1159\n",
            "Epoch [20/20], Step [100/391], Loss: 0.2606\n",
            "Epoch [20/20], Step [200/391], Loss: 0.1915\n",
            "Epoch [20/20], Step [300/391], Loss: 0.2172\n",
            "Epoch [1/20], Step [100/391], Loss: 1.7913\n",
            "Epoch [1/20], Step [200/391], Loss: 1.8287\n",
            "Epoch [1/20], Step [300/391], Loss: 1.6832\n",
            "Epoch [2/20], Step [100/391], Loss: 1.5841\n",
            "Epoch [2/20], Step [200/391], Loss: 1.4139\n",
            "Epoch [2/20], Step [300/391], Loss: 1.4039\n",
            "Epoch [3/20], Step [100/391], Loss: 1.4390\n",
            "Epoch [3/20], Step [200/391], Loss: 1.4922\n",
            "Epoch [3/20], Step [300/391], Loss: 1.1772\n",
            "Epoch [4/20], Step [100/391], Loss: 1.1559\n",
            "Epoch [4/20], Step [200/391], Loss: 1.2007\n",
            "Epoch [4/20], Step [300/391], Loss: 1.1469\n",
            "Epoch [5/20], Step [100/391], Loss: 1.1431\n",
            "Epoch [5/20], Step [200/391], Loss: 1.0371\n",
            "Epoch [5/20], Step [300/391], Loss: 1.0905\n",
            "Epoch [6/20], Step [100/391], Loss: 1.1314\n",
            "Epoch [6/20], Step [200/391], Loss: 0.9952\n",
            "Epoch [6/20], Step [300/391], Loss: 1.0282\n",
            "Epoch [7/20], Step [100/391], Loss: 0.9919\n",
            "Epoch [7/20], Step [200/391], Loss: 0.9524\n",
            "Epoch [7/20], Step [300/391], Loss: 0.9821\n",
            "Epoch [8/20], Step [100/391], Loss: 0.9447\n",
            "Epoch [8/20], Step [200/391], Loss: 1.0995\n",
            "Epoch [8/20], Step [300/391], Loss: 0.8902\n",
            "Epoch [9/20], Step [100/391], Loss: 1.0027\n",
            "Epoch [9/20], Step [200/391], Loss: 1.0044\n",
            "Epoch [9/20], Step [300/391], Loss: 0.7786\n",
            "Epoch [10/20], Step [100/391], Loss: 0.8327\n",
            "Epoch [10/20], Step [200/391], Loss: 0.8333\n",
            "Epoch [10/20], Step [300/391], Loss: 0.9070\n",
            "Epoch [11/20], Step [100/391], Loss: 0.9956\n",
            "Epoch [11/20], Step [200/391], Loss: 0.8915\n",
            "Epoch [11/20], Step [300/391], Loss: 0.8418\n",
            "Epoch [12/20], Step [100/391], Loss: 0.9266\n",
            "Epoch [12/20], Step [200/391], Loss: 0.7543\n",
            "Epoch [12/20], Step [300/391], Loss: 0.9157\n",
            "Epoch [13/20], Step [100/391], Loss: 0.6700\n",
            "Epoch [13/20], Step [200/391], Loss: 0.8528\n",
            "Epoch [13/20], Step [300/391], Loss: 0.8137\n",
            "Epoch [14/20], Step [100/391], Loss: 0.8823\n",
            "Epoch [14/20], Step [200/391], Loss: 0.6714\n",
            "Epoch [14/20], Step [300/391], Loss: 0.9237\n",
            "Epoch [15/20], Step [100/391], Loss: 0.6744\n",
            "Epoch [15/20], Step [200/391], Loss: 0.6331\n",
            "Epoch [15/20], Step [300/391], Loss: 0.8082\n",
            "Epoch [16/20], Step [100/391], Loss: 0.7571\n",
            "Epoch [16/20], Step [200/391], Loss: 0.8018\n",
            "Epoch [16/20], Step [300/391], Loss: 0.6961\n",
            "Epoch [17/20], Step [100/391], Loss: 0.7163\n",
            "Epoch [17/20], Step [200/391], Loss: 0.7772\n",
            "Epoch [17/20], Step [300/391], Loss: 0.7899\n",
            "Epoch [18/20], Step [100/391], Loss: 0.9495\n",
            "Epoch [18/20], Step [200/391], Loss: 0.7203\n",
            "Epoch [18/20], Step [300/391], Loss: 0.6881\n",
            "Epoch [19/20], Step [100/391], Loss: 0.5810\n",
            "Epoch [19/20], Step [200/391], Loss: 0.7530\n",
            "Epoch [19/20], Step [300/391], Loss: 0.5753\n",
            "Epoch [20/20], Step [100/391], Loss: 0.6559\n",
            "Epoch [20/20], Step [200/391], Loss: 0.7533\n",
            "Epoch [20/20], Step [300/391], Loss: 0.7016\n"
          ],
          "name": "stdout"
        }
      ]
    },
    {
      "cell_type": "code",
      "metadata": {
        "id": "aY1vNYESyeA2",
        "colab_type": "code",
        "outputId": "d79241fd-be9e-4f99-a545-7df8f98ecd2a",
        "colab": {
          "base_uri": "https://localhost:8080/",
          "height": 347
        }
      },
      "source": [
        "import matplotlib.pyplot as plt\n",
        "\n",
        "fig = plt.figure()\n",
        "plt.plot(count, loss1, color='blue', label='Adam')\n",
        "plt.plot(count, loss2, color='red', label='SGD')\n",
        "plt.xlabel('Epochs')\n",
        "plt.ylabel('Loss')\n",
        "plt.legend()\n",
        "plt.show()\n",
        "\n",
        "print('Adam Optimizer')\n",
        "Test(model1)\n",
        "\n",
        "print('SGD Optimizer')\n",
        "Test(model2)"
      ],
      "execution_count": 19,
      "outputs": [
        {
          "output_type": "display_data",
          "data": {
            "image/png": "[encoded data removed]",
            "text/plain": [
              "<Figure size 432x288 with 1 Axes>"
            ]
          },
          "metadata": {
            "tags": []
          }
        },
        {
          "output_type": "stream",
          "text": [
            "Adam Optimizer\n",
            "Accuracy of the model = 80.000000\n",
            "SGD Optimizer\n",
            "Accuracy of the model = 71.000000\n"
          ],
          "name": "stdout"
        }
      ]
    }
  ]
}