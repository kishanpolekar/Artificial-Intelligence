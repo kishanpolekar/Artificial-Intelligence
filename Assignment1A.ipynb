{
  "nbformat": 4,
  "nbformat_minor": 0,
  "metadata": {
    "colab": {
      "name": "Assignment1A.ipynb",
      "version": "0.3.2",
      "provenance": [],
      "collapsed_sections": []
    },
    "kernelspec": {
      "name": "python3",
      "display_name": "Python 3"
    }
  },
  "cells": [
    {
      "cell_type": "markdown",
      "metadata": {
        "id": "ahgcvywJnEGS",
        "colab_type": "text"
      },
      "source": [
        "# Words Counting"
      ]
    },
    {
      "cell_type": "markdown",
      "metadata": {
        "id": "gHptVCRfnVl1",
        "colab_type": "text"
      },
      "source": [
        "Split the words and remove punctuation"
      ]
    },
    {
      "cell_type": "code",
      "metadata": {
        "id": "6DqhxnjJbd7u",
        "colab_type": "code",
        "colab": {
          "base_uri": "https://localhost:8080/",
          "height": 71
        },
        "outputId": "c094c003-529b-454f-f02f-f605e207d3ce"
      },
      "source": [
        "import string\n",
        "\n",
        "sentence = ['It was the best of times, it was the worst of times, it was the age of wisdom, it was the age of foolishness,' \n",
        "            'it was the epoch of belief, it was the epoch of incredulity, it was the season of Light, '\n",
        "            'it was the season of Darkness, it was the spring of hope, it was the winter of despair, '\n",
        "            'we had everything before us, we had nothing before us, we were all going direct to Heaven,' \n",
        "            'we were all going direct the other way--in short, the period was so far like the present period,' \n",
        "            'that some of its noisiest authorities insisted on its being received, for good or for evil, '\n",
        "            'in the superlative degree of comparison only.'\n",
        "            'There were a king with a large jaw and a queen with a plain face, on the throne of England; '\n",
        "            'there were a king with a large jaw and a queen with a fair face, on the throne of France. '\n",
        "            'In both countries it was clearer than crystal to the lords of the State preserves of loaves and fishes, '\n",
        "            'that things in general were settled for ever']\n",
        "\n",
        "words = ''.join(ch for ch in sentence[0] if ch not in set(string.punctuation)).lower().split()\n",
        "\n",
        "# print out the total number of words\n",
        "print(f'The total number of words = {len(words)}')\n",
        "\n",
        "# print out the list of words\n",
        "print(words)"
      ],
      "execution_count": 12,
      "outputs": [
        {
          "output_type": "stream",
          "text": [
            "The total nuber of words = 181\n",
            "['it', 'was', 'the', 'best', 'of', 'times', 'it', 'was', 'the', 'worst', 'of', 'times', 'it', 'was', 'the', 'age', 'of', 'wisdom', 'it', 'was', 'the', 'age', 'of', 'foolishnessit', 'was', 'the', 'epoch', 'of', 'belief', 'it', 'was', 'the', 'epoch', 'of', 'incredulity', 'it', 'was', 'the', 'season', 'of', 'light', 'it', 'was', 'the', 'season', 'of', 'darkness', 'it', 'was', 'the', 'spring', 'of', 'hope', 'it', 'was', 'the', 'winter', 'of', 'despair', 'we', 'had', 'everything', 'before', 'us', 'we', 'had', 'nothing', 'before', 'us', 'we', 'were', 'all', 'going', 'direct', 'to', 'heavenwe', 'were', 'all', 'going', 'direct', 'the', 'other', 'wayin', 'short', 'the', 'period', 'was', 'so', 'far', 'like', 'the', 'present', 'periodthat', 'some', 'of', 'its', 'noisiest', 'authorities', 'insisted', 'on', 'its', 'being', 'received', 'for', 'good', 'or', 'for', 'evil', 'in', 'the', 'superlative', 'degree', 'of', 'comparison', 'onlythere', 'were', 'a', 'king', 'with', 'a', 'large', 'jaw', 'and', 'a', 'queen', 'with', 'a', 'plain', 'face', 'on', 'the', 'throne', 'of', 'england', 'there', 'were', 'a', 'king', 'with', 'a', 'large', 'jaw', 'and', 'a', 'queen', 'with', 'a', 'fair', 'face', 'on', 'the', 'throne', 'of', 'france', 'in', 'both', 'countries', 'it', 'was', 'clearer', 'than', 'crystal', 'to', 'the', 'lords', 'of', 'the', 'state', 'preserves', 'of', 'loaves', 'and', 'fishes', 'that', 'things', 'in', 'general', 'were', 'settled', 'for', 'ever']\n"
          ],
          "name": "stdout"
        }
      ]
    },
    {
      "cell_type": "markdown",
      "metadata": {
        "id": "iqWXJbKanzOZ",
        "colab_type": "text"
      },
      "source": [
        "Build a dictionary where the word is the key and the occurrence is the value"
      ]
    },
    {
      "cell_type": "code",
      "metadata": {
        "id": "-LqnclkBnrGj",
        "colab_type": "code",
        "colab": {
          "base_uri": "https://localhost:8080/",
          "height": 54
        },
        "outputId": "0fdd0d24-d4a8-4011-fdbe-d89e5af89f81"
      },
      "source": [
        "dict = {}\n",
        "\n",
        "for word in words:\n",
        "  count = [j for j,w in enumerate(words) if w == word]\n",
        "  dict[word] = len(count)\n",
        "        \n",
        "print(dict)        \n"
      ],
      "execution_count": 14,
      "outputs": [
        {
          "output_type": "stream",
          "text": [
            "{'it': 10, 'was': 12, 'the': 18, 'best': 1, 'of': 16, 'times': 2, 'worst': 1, 'age': 2, 'wisdom': 1, 'foolishnessit': 1, 'epoch': 2, 'belief': 1, 'incredulity': 1, 'season': 2, 'light': 1, 'darkness': 1, 'spring': 1, 'hope': 1, 'winter': 1, 'despair': 1, 'we': 3, 'had': 2, 'everything': 1, 'before': 2, 'us': 2, 'nothing': 1, 'were': 5, 'all': 2, 'going': 2, 'direct': 2, 'to': 2, 'heavenwe': 1, 'other': 1, 'wayin': 1, 'short': 1, 'period': 1, 'so': 1, 'far': 1, 'like': 1, 'present': 1, 'periodthat': 1, 'some': 1, 'its': 2, 'noisiest': 1, 'authorities': 1, 'insisted': 1, 'on': 3, 'being': 1, 'received': 1, 'for': 3, 'good': 1, 'or': 1, 'evil': 1, 'in': 3, 'superlative': 1, 'degree': 1, 'comparison': 1, 'onlythere': 1, 'a': 8, 'king': 2, 'with': 4, 'large': 2, 'jaw': 2, 'and': 3, 'queen': 2, 'plain': 1, 'face': 2, 'throne': 2, 'england': 1, 'there': 1, 'fair': 1, 'france': 1, 'both': 1, 'countries': 1, 'clearer': 1, 'than': 1, 'crystal': 1, 'lords': 1, 'state': 1, 'preserves': 1, 'loaves': 1, 'fishes': 1, 'that': 1, 'things': 1, 'general': 1, 'settled': 1, 'ever': 1}\n"
          ],
          "name": "stdout"
        }
      ]
    },
    {
      "cell_type": "markdown",
      "metadata": {
        "id": "vagMeVz3ocvm",
        "colab_type": "text"
      },
      "source": [
        "Sort the dictionary in descending order by value "
      ]
    },
    {
      "cell_type": "code",
      "metadata": {
        "id": "tiw61o6JoGES",
        "colab_type": "code",
        "colab": {
          "base_uri": "https://localhost:8080/",
          "height": 187
        },
        "outputId": "b1656cb8-5456-4c0c-e7ac-15760dfc1116"
      },
      "source": [
        "# the dictionary is saved in the variable dict\n",
        "words = sorted(dict, key=dict.get, reverse=True)\n",
        "\n",
        "for i in range(10):\n",
        "    print(words[i], dict[words[i]])\n"
      ],
      "execution_count": 15,
      "outputs": [
        {
          "output_type": "stream",
          "text": [
            "the 18\n",
            "of 16\n",
            "was 12\n",
            "it 10\n",
            "a 8\n",
            "were 5\n",
            "with 4\n",
            "we 3\n",
            "on 3\n",
            "for 3\n"
          ],
          "name": "stdout"
        }
      ]
    }
  ]
}