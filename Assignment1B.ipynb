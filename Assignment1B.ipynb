{
  "nbformat": 4,
  "nbformat_minor": 0,
  "metadata": {
    "colab": {
      "name": "Assignment1B.ipynb",
      "version": "0.3.2",
      "provenance": [],
      "collapsed_sections": []
    },
    "kernelspec": {
      "name": "python3",
      "display_name": "Python 3"
    }
  },
  "cells": [
    {
      "cell_type": "markdown",
      "metadata": {
        "id": "Y8aLDkCbOt4c",
        "colab_type": "text"
      },
      "source": [
        "# Simple Matrix Operations"
      ]
    },
    {
      "cell_type": "code",
      "metadata": {
        "id": "91YUwezmOpeE",
        "colab_type": "code",
        "colab": {}
      },
      "source": [
        "import numpy as np"
      ],
      "execution_count": 0,
      "outputs": []
    },
    {
      "cell_type": "markdown",
      "metadata": {
        "id": "bN6jEZ2SQEiT",
        "colab_type": "text"
      },
      "source": [
        "Define a matrix X "
      ]
    },
    {
      "cell_type": "code",
      "metadata": {
        "id": "VkAkulNsO1yg",
        "colab_type": "code",
        "outputId": "15e2e917-b2c9-4171-be94-cd35d36b3b11",
        "colab": {
          "base_uri": "https://localhost:8080/",
          "height": 85
        }
      },
      "source": [
        "X = np.matrix([[0.1,0.5,0.3],[0.2,0.1,0.5],[0.4,0.5,0.1]])\n",
        "print(\"Matrix X = \")\n",
        "print(X)"
      ],
      "execution_count": 0,
      "outputs": [
        {
          "output_type": "stream",
          "text": [
            "Matrix X = \n",
            "[[0.1 0.5 0.3]\n",
            " [0.2 0.1 0.5]\n",
            " [0.4 0.5 0.1]]\n"
          ],
          "name": "stdout"
        }
      ]
    },
    {
      "cell_type": "markdown",
      "metadata": {
        "id": "6txF35C_QkT5",
        "colab_type": "text"
      },
      "source": [
        "Define a class called Neuron\n",
        "\n",
        "In the constructor, define a matrix called W and initialize all elements to be 0.1. The size of the matrix is the parameters from the constructor\n",
        "\n",
        "Define a method called addColumn that adds a column whose elements are all one to the first column \n",
        "\n",
        "Define a method called compute that calculates the following equation where * dnotes a matrix muliplication\n",
        "\n",
        "\n",
        "$\\huge{\\frac{1}{1 + \\exp^{-X * W}}}$\n"
      ]
    },
    {
      "cell_type": "code",
      "metadata": {
        "id": "I4Rm718pQjTp",
        "colab_type": "code",
        "colab": {}
      },
      "source": [
        "## For exp(X), use np.exp(X)\n",
        "class Neuron:\n",
        "\n",
        "  def __init__(self, n, m):\n",
        "    self.W = np.ones([n,m]) * 0.1\n",
        "\n",
        "  def addColumn(self, X):\n",
        "    X0 = np.ones(np.shape(X)[0])\n",
        "    return (np.column_stack((X0, X)))\n",
        "\n",
        "  def compute(self, X):\n",
        "    return (1/(1+(np.exp(np.dot(X, self.W)*-1))))\n",
        "\n",
        "  def print(self):\n",
        "    print(self.W)"
      ],
      "execution_count": 0,
      "outputs": []
    },
    {
      "cell_type": "markdown",
      "metadata": {
        "id": "xdrHeyw8mFwP",
        "colab_type": "text"
      },
      "source": [
        "Perform the following computation"
      ]
    },
    {
      "cell_type": "code",
      "metadata": {
        "id": "6wa3IRVVRqOR",
        "colab_type": "code",
        "outputId": "7dc1d7bc-6d10-4fbd-c6c1-30557cd816ed",
        "colab": {
          "base_uri": "https://localhost:8080/",
          "height": 374
        }
      },
      "source": [
        "m = Neuron(1+3,3)\n",
        "\n",
        "print('Matrix W = ')\n",
        "m.print()\n",
        "\n",
        "X2 = m.addColumn(X)\n",
        "print('Added Column Matrix = ')\n",
        "print(X2)\n",
        "\n",
        "X3 = m.compute(X2)\n",
        "print('Computed Matrix = ')\n",
        "print(X3)\n",
        "\n",
        "\n",
        "X4 = m.addColumn(X3)\n",
        "print('Added Column Matrix = ')\n",
        "print(X4)\n",
        "\n",
        "X5 = m.compute(X4)\n",
        "print('Computed Matrix = ')\n",
        "print(X5)"
      ],
      "execution_count": 0,
      "outputs": [
        {
          "output_type": "stream",
          "text": [
            "Matrix W = \n",
            "[[0.1 0.1 0.1]\n",
            " [0.1 0.1 0.1]\n",
            " [0.1 0.1 0.1]\n",
            " [0.1 0.1 0.1]]\n",
            "Added Column Matrix = \n",
            "[[1.  0.1 0.5 0.3]\n",
            " [1.  0.2 0.1 0.5]\n",
            " [1.  0.4 0.5 0.1]]\n",
            "Computed Matrix = \n",
            "[[0.54735762 0.54735762 0.54735762]\n",
            " [0.54487889 0.54487889 0.54487889]\n",
            " [0.549834   0.549834   0.549834  ]]\n",
            "Added Column Matrix = \n",
            "[[1.         0.54735762 0.54735762 0.54735762]\n",
            " [1.         0.54487889 0.54487889 0.54487889]\n",
            " [1.         0.549834   0.549834   0.549834  ]]\n",
            "Computed Matrix = \n",
            "[[0.56567025 0.56567025 0.56567025]\n",
            " [0.56548755 0.56548755 0.56548755]\n",
            " [0.56585277 0.56585277 0.56585277]]\n"
          ],
          "name": "stdout"
        }
      ]
    }
  ]
}